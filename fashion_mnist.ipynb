{
 "cells": [
  {
   "cell_type": "markdown",
   "id": "4c4323e9",
   "metadata": {},
   "source": [
    "# MNIST Fashion Image Classification"
   ]
  },
  {
   "cell_type": "code",
   "execution_count": 1,
   "id": "ab18cc79",
   "metadata": {
    "scrolled": true
   },
   "outputs": [
    {
     "name": "stderr",
     "output_type": "stream",
     "text": [
      "2023-04-01 11:30:47.223498: I tensorflow/core/platform/cpu_feature_guard.cc:182] This TensorFlow binary is optimized to use available CPU instructions in performance-critical operations.\n",
      "To enable the following instructions: AVX2 FMA, in other operations, rebuild TensorFlow with the appropriate compiler flags.\n"
     ]
    },
    {
     "data": {
      "text/plain": [
       "[]"
      ]
     },
     "execution_count": 1,
     "metadata": {},
     "output_type": "execute_result"
    }
   ],
   "source": [
    "import pandas as pd\n",
    "import keras  \n",
    "import tensorflow as tf\n",
    "\n",
    "tf.config.list_physical_devices('GPU')"
   ]
  },
  {
   "cell_type": "code",
   "execution_count": 2,
   "id": "b82b6916",
   "metadata": {},
   "outputs": [],
   "source": [
    "fashion_mnist = tf.keras.datasets.fashion_mnist\n",
    "(train_images, train_labels), (valid_images, valid_labels) = fashion_mnist.load_data()"
   ]
  },
  {
   "cell_type": "markdown",
   "id": "249e9b23",
   "metadata": {},
   "source": [
    "#### The classification classes:\n",
    "\n",
    "0: T-shirt/top </br>\n",
    "1: Trouser </br>\n",
    "2: Pullover </br>\n",
    "3: Dress </br>\n",
    "4: Coat </br>\n",
    "5: Sandal </br>\n",
    "6: Shirt </br>\n",
    "7: Sneaker </br>\n",
    "8: Bag </br>\n",
    "9: Ankle boot"
   ]
  },
  {
   "cell_type": "code",
   "execution_count": 5,
   "id": "ecb5bf5e",
   "metadata": {},
   "outputs": [
    {
     "data": {
      "image/png": "[encoded data removed]",
      "text/plain": [
       "<Figure size 640x480 with 2 Axes>"
      ]
     },
     "metadata": {},
     "output_type": "display_data"
    }
   ],
   "source": [
    "import matplotlib.pyplot as plt\n",
    "\n",
    "data_idx = 3523\n",
    "\n",
    "plt.figure()\n",
    "plt.imshow(train_images[data_idx], cmap='gray')\n",
    "plt.colorbar()\n",
    "plt.grid(False)\n",
    "plt.show()"
   ]
  },
  {
   "cell_type": "code",
   "execution_count": 12,
   "id": "788fea2d",
   "metadata": {},
   "outputs": [
    {
     "data": {
      "text/plain": [
       "8"
      ]
     },
     "execution_count": 12,
     "metadata": {},
     "output_type": "execute_result"
    }
   ],
   "source": [
    "train_labels[data_idx]"
   ]
  },
  {
   "cell_type": "code",
   "execution_count": 13,
   "id": "3c0da35a",
   "metadata": {},
   "outputs": [
    {
     "data": {
      "image/png": "[encoded data removed]",
      "text/plain": [
       "<Figure size 640x480 with 2 Axes>"
      ]
     },
     "metadata": {},
     "output_type": "display_data"
    }
   ],
   "source": [
    "data_idx = 532\n",
    "\n",
    "plt.figure()\n",
    "plt.imshow(valid_images[data_idx], cmap='gray')\n",
    "plt.colorbar()\n",
    "plt.grid(False)\n",
    "plt.show()"
   ]
  },
  {
   "cell_type": "code",
   "execution_count": 14,
   "id": "a0481b0c",
   "metadata": {},
   "outputs": [
    {
     "data": {
      "text/plain": [
       "5"
      ]
     },
     "execution_count": 14,
     "metadata": {},
     "output_type": "execute_result"
    }
   ],
   "source": [
    "valid_labels[data_idx]"
   ]
  },
  {
   "cell_type": "code",
   "execution_count": 15,
   "id": "da9d08c6",
   "metadata": {},
   "outputs": [
    {
     "data": {
      "text/plain": [
       "array([[  0,   0,   0,   0,   0,   0,   0,   0,   0,   0,   0,   0,   0,\n",
       "          0,   0,   0,   0,   0,   0,   0,   0,   0,   0,   0,   0,   0,\n",
       "          0,   0],\n",
       "       [  0,   0,   0,   0,   0,   0,   0,   0,   0,   0,   0,   0,   0,\n",
       "          0,   0,   0,   0,   0,   0,   0,   0,   0,   0,   0,   0,   0,\n",
       "          0,   0],\n",
       "       [  0,   0,   0,   0,   0,   0,   0,   0,   0,   0,   0,   0,   0,\n",
       "          0,   0,   0,   0,   0,   0,   0,   0,   0,   0,   0,   0,   0,\n",
       "          0,   0],\n",
       "       [  0,   0,   0,   0,   0,   0,   0,   0,   0,   0,   0,   0,   0,\n",
       "          0,   0,   0,   0,   0,   0,   0,   0,   0,   0,   0,   0,   0,\n",
       "          0,   0],\n",
       "       [  0,   0,   0,   0,   0,   0,   0,   0,   0,   0,   0,   0,   0,\n",
       "          0,   0,   0,   0,   0,   0,   0,   0,   0,   0,   0,   0,   0,\n",
       "          0,   0],\n",
       "       [  0,   0,   0,   0,   0,   0,   0,   0,   0,   0,   0,   0,   0,\n",
       "          0,   0,   0,   0,   0,   0,   0,   0,   0,   0,   0,   0,   0,\n",
       "          0,   0],\n",
       "       [  0,   0,   0,   0,   0,   0,   0,   0,   0,   0,   0,   0,   0,\n",
       "          0,   0,   0,   0,   0,   0,   0,   0,   0,   0,   0,   0,   0,\n",
       "          0,   0],\n",
       "       [  0,   0,   0,   0,   0,   0,   0,   0,   0,   0,   0,   0,   0,\n",
       "          0,   0,   0,   0,   0,   0,   0,   0,   0,   0,   0,   0,   0,\n",
       "          0,   0],\n",
       "       [  0,   0,   0,   0,   0,   0,   0,   0,   0,   0,   0,   0,   0,\n",
       "          0,   0,   3,   0,   0,   0,   0,   0,   0,   0,   0,  43,   0,\n",
       "          0,   0],\n",
       "       [  0,   0,   0,   0,   0,   0,   0,   0,   0,   0,   0,   0,   0,\n",
       "          0,   9,   0,  11, 115,  63,  79,  79,  94, 123, 155, 194,  10,\n",
       "          0,   2],\n",
       "       [  0,   0,   0,   0,   0,   0,   0,   0,   0,   0,   0,   1,   3,\n",
       "          4,   0,   0, 161, 218, 200, 242, 247, 235, 255, 239, 209,  43,\n",
       "          0,   5],\n",
       "       [  0,   0,   0,   0,   0,   0,   1,   0,   0,   4,   3,   0,   0,\n",
       "          0,  66, 128, 136, 114, 158, 198, 223, 149,  63,  54, 118,  69,\n",
       "          0,   5],\n",
       "       [  1,   0,   1,   1,   2,   0,   1,   6,   4,   0,   0,   0,  41,\n",
       "        200, 182, 143, 126,  29,   0,   0,   0,   0,   2, 160, 245, 141,\n",
       "          0,   5],\n",
       "       [  0,   1,   2,   0,   4,   6,   0,   0,   0,  23, 128, 173,  87,\n",
       "         49,   2, 107, 187, 200, 168, 201,  31, 153, 252, 255, 149,   2,\n",
       "          0,   1],\n",
       "       [  1,   2,   0,   0,   0,   0,   0,  74, 200, 135, 135, 167,   0,\n",
       "          0,   0,   0,   7, 153, 215, 240, 218, 238, 214,  61,   0,   0,\n",
       "          0,   0],\n",
       "       [  1,   1,   0,   0,  29, 125, 218, 130, 150, 165, 160, 205, 102,\n",
       "          0,   0,   0,   0,   0,  69, 197, 220, 241,  11,   0,   4,  10,\n",
       "          6,   0],\n",
       "       [  2,   8,   5,   0,  84, 139, 192,  93, 184, 171, 174, 235, 165,\n",
       "          0,   0,   0,   0,   0,  79, 236, 212, 138,   0,   0,   0,   0,\n",
       "          0,   0],\n",
       "       [  0,   0,   0,   0,  74, 188, 207,  97, 243, 203,  33, 225, 248,\n",
       "          0,   0,   0,   0,   0, 212, 215, 151,   0,  12,  20,  35,  48,\n",
       "         38,   0],\n",
       "       [ 62, 179, 157, 115, 169, 236, 223, 148, 214, 246, 134, 195, 224,\n",
       "        210, 235, 255, 231, 241, 243, 236, 248, 255, 250, 249, 251, 247,\n",
       "        243, 124],\n",
       "       [ 36, 133, 155, 195, 207, 214, 222, 232, 234, 223, 237, 217, 208,\n",
       "        194, 169, 131,  81,  75,  76,  50, 144, 192, 175, 163, 147, 129,\n",
       "        105,  28],\n",
       "       [  0,   0,   0,   0,   0,   0,   0,   0,   0,   0,   0,   0,   0,\n",
       "          0,   0,   0,   0,   0,   0,   0,   0,   0,   0,   0,   0,   0,\n",
       "          0,   0],\n",
       "       [  0,   0,   0,   0,   0,   0,   0,   0,   0,   0,   0,   0,   0,\n",
       "          0,   0,   0,   0,   0,   0,   0,   0,   0,   0,   0,   0,   0,\n",
       "          0,   0],\n",
       "       [  0,   0,   0,   0,   0,   0,   0,   0,   0,   0,   0,   0,   0,\n",
       "          0,   0,   0,   0,   0,   0,   0,   0,   0,   0,   0,   0,   0,\n",
       "          0,   0],\n",
       "       [  0,   0,   0,   0,   0,   0,   0,   0,   0,   0,   0,   0,   0,\n",
       "          0,   0,   0,   0,   0,   0,   0,   0,   0,   0,   0,   0,   0,\n",
       "          0,   0],\n",
       "       [  0,   0,   0,   0,   0,   0,   0,   0,   0,   0,   0,   0,   0,\n",
       "          0,   0,   0,   0,   0,   0,   0,   0,   0,   0,   0,   0,   0,\n",
       "          0,   0],\n",
       "       [  0,   0,   0,   0,   0,   0,   0,   0,   0,   0,   0,   0,   0,\n",
       "          0,   0,   0,   0,   0,   0,   0,   0,   0,   0,   0,   0,   0,\n",
       "          0,   0],\n",
       "       [  0,   0,   0,   0,   0,   0,   0,   0,   0,   0,   0,   0,   0,\n",
       "          0,   0,   0,   0,   0,   0,   0,   0,   0,   0,   0,   0,   0,\n",
       "          0,   0],\n",
       "       [  0,   0,   0,   0,   0,   0,   0,   0,   0,   0,   0,   0,   0,\n",
       "          0,   0,   0,   0,   0,   0,   0,   0,   0,   0,   0,   0,   0,\n",
       "          0,   0]], dtype=uint8)"
      ]
     },
     "execution_count": 15,
     "metadata": {},
     "output_type": "execute_result"
    }
   ],
   "source": [
    "valid_images[data_idx]"
   ]
  },
  {
   "cell_type": "code",
   "execution_count": 16,
   "id": "060b2147",
   "metadata": {},
   "outputs": [
    {
     "data": {
      "text/plain": [
       "10"
      ]
     },
     "execution_count": 16,
     "metadata": {},
     "output_type": "execute_result"
    }
   ],
   "source": [
    "number_of_classes = train_labels.max() + 1 \n",
    "number_of_classes"
   ]
  },
  {
   "cell_type": "code",
   "execution_count": 17,
   "id": "01a2adb0",
   "metadata": {},
   "outputs": [],
   "source": [
    "model = tf.keras.Sequential([\n",
    "    tf.keras.layers.Flatten(input_shape=(28, 28)),\n",
    "    tf.keras.layers.Dense(number_of_classes)\n",
    "])"
   ]
  },
  {
   "cell_type": "code",
   "execution_count": 18,
   "id": "55c59fa0",
   "metadata": {},
   "outputs": [
    {
     "name": "stdout",
     "output_type": "stream",
     "text": [
      "Model: \"sequential\"\n",
      "_________________________________________________________________\n",
      " Layer (type)                Output Shape              Param #   \n",
      "=================================================================\n",
      " flatten (Flatten)           (None, 784)               0         \n",
      "                                                                 \n",
      " dense (Dense)               (None, 10)                7850      \n",
      "                                                                 \n",
      "=================================================================\n",
      "Total params: 7,850\n",
      "Trainable params: 7,850\n",
      "Non-trainable params: 0\n",
      "_________________________________________________________________\n"
     ]
    }
   ],
   "source": [
    "model.summary()"
   ]
  },
  {
   "cell_type": "code",
   "execution_count": 19,
   "id": "89747d6a",
   "metadata": {},
   "outputs": [
    {
     "data": {
      "text/plain": [
       "7840"
      ]
     },
     "execution_count": 19,
     "metadata": {},
     "output_type": "execute_result"
    }
   ],
   "source": [
    "image_height = 28\n",
    "image_width = 28\n",
    "\n",
    "number_of_weights = image_height * image_width * number_of_classes\n",
    "number_of_weights"
   ]
  },
  {
   "cell_type": "code",
   "execution_count": 21,
   "id": "0761bbac",
   "metadata": {},
   "outputs": [
    {
     "name": "stdout",
     "output_type": "stream",
     "text": [
      "You must install pydot (`pip install pydot`) and install graphviz (see instructions at https://graphviz.gitlab.io/download/) for plot_model to work.\n"
     ]
    }
   ],
   "source": [
    "tf.keras.utils.plot_model(model, show_shapes=True)"
   ]
  },
  {
   "cell_type": "code",
   "execution_count": 22,
   "id": "73165097",
   "metadata": {},
   "outputs": [],
   "source": [
    "model.compile(optimizer='adam',\n",
    "             loss=tf.keras.losses.SparseCategoricalCrossentropy(from_logits=True),\n",
    "             metrics=['accuracy']\n",
    "             )"
   ]
  },
  {
   "cell_type": "code",
   "execution_count": 24,
   "id": "6715f8a7",
   "metadata": {},
   "outputs": [
    {
     "name": "stdout",
     "output_type": "stream",
     "text": [
      "Epoch 1/5\n",
      "1875/1875 [==============================] - 3s 1ms/step - loss: 16.9615 - accuracy: 0.7409 - val_loss: 19.5885 - val_accuracy: 0.7096\n",
      "Epoch 2/5\n",
      "1875/1875 [==============================] - 2s 889us/step - loss: 12.4826 - accuracy: 0.7869 - val_loss: 12.5862 - val_accuracy: 0.7777\n",
      "Epoch 3/5\n",
      "1875/1875 [==============================] - 2s 908us/step - loss: 11.0583 - accuracy: 0.7946 - val_loss: 11.4361 - val_accuracy: 0.7836\n",
      "Epoch 4/5\n",
      "1875/1875 [==============================] - 2s 915us/step - loss: 10.7455 - accuracy: 0.7982 - val_loss: 10.2907 - val_accuracy: 0.8127\n",
      "Epoch 5/5\n",
      "1875/1875 [==============================] - 2s 901us/step - loss: 10.4186 - accuracy: 0.8015 - val_loss: 14.0897 - val_accuracy: 0.7853\n"
     ]
    }
   ],
   "source": [
    "history = model.fit(\n",
    "    train_images,\n",
    "    train_labels,\n",
    "    epochs=5,\n",
    "    verbose=True,\n",
    "    validation_data=(valid_images, valid_labels)\n",
    ")"
   ]
  },
  {
   "cell_type": "code",
   "execution_count": 25,
   "id": "2bcc0489",
   "metadata": {},
   "outputs": [
    {
     "name": "stdout",
     "output_type": "stream",
     "text": [
      "1/1 [==============================] - 0s 80ms/step\n"
     ]
    },
    {
     "data": {
      "text/plain": [
       "array([[-2.79848938e+02, -4.85016083e+02, -1.01717010e+02,\n",
       "        -2.44290817e+02, -2.97865631e+02,  3.08950684e+02,\n",
       "        -2.73829460e+01,  3.88902130e+02,  6.64977417e+01,\n",
       "         3.96308624e+02],\n",
       "       [ 4.13941772e+02, -1.74116989e+02,  2.06633453e+02,\n",
       "         1.72707642e+02, -5.57305679e+01, -1.25057483e+03,\n",
       "         2.68711761e+02, -1.98956177e+03, -2.01943680e+02,\n",
       "        -1.00725580e+03],\n",
       "       [ 9.00397263e+01,  3.80821490e+00,  4.73382187e+01,\n",
       "         1.12729118e+02,  5.37493019e+01, -5.09099579e+02,\n",
       "         8.16614838e+01, -5.10836090e+02, -1.20958992e+02,\n",
       "        -3.86960327e+02],\n",
       "       [ 1.67879990e+02, -1.28767896e+00,  1.12808769e+02,\n",
       "         1.92855942e+02,  6.31983452e+01, -7.58931152e+02,\n",
       "         1.79773819e+02, -1.11778650e+03, -1.72940277e+02,\n",
       "        -8.63042175e+02],\n",
       "       [ 1.27354462e+02,  2.47393894e+01,  1.99623489e+01,\n",
       "         1.96740677e+02,  7.13014526e+01, -9.56015442e+02,\n",
       "         7.94433746e+01, -7.20199890e+02, -1.52856842e+02,\n",
       "        -1.01175287e+03],\n",
       "       [ 1.37707779e+02, -2.70276703e+02,  2.24601852e+02,\n",
       "         6.57798004e+01,  1.03886169e+02, -8.96494873e+02,\n",
       "         1.47978119e+02, -1.64753149e+03, -1.59830261e+02,\n",
       "        -1.30471387e+03],\n",
       "       [-1.50883896e+02, -1.47198410e+02, -5.59223022e+01,\n",
       "        -5.87127647e+01, -1.72180542e+02,  1.94140015e+02,\n",
       "        -9.56345444e+01,  3.37679779e+02,  8.46892853e+01,\n",
       "         2.87905827e+01],\n",
       "       [ 2.89992771e+01, -2.69248077e+02,  3.27882294e+02,\n",
       "        -1.42285034e+02,  2.54109039e+02, -1.16977332e+03,\n",
       "         1.24626251e+02, -1.93703186e+03, -1.85188599e+02,\n",
       "        -1.14177002e+03],\n",
       "       [-7.56641998e+01, -3.36839386e+02, -1.08402771e+02,\n",
       "        -1.70485245e+02, -1.47655884e+02,  4.15186615e+02,\n",
       "        -9.18876648e+01, -1.35906115e+01, -9.25865173e+01,\n",
       "         1.76550262e+02],\n",
       "       [-1.76864365e+02, -2.88828308e+02,  8.74392776e+01,\n",
       "        -1.34764511e+02, -1.14585983e+02,  6.35897644e+02,\n",
       "         1.56351602e+00, -1.87066193e+02,  1.74322033e+01,\n",
       "         1.90364456e+02]], dtype=float32)"
      ]
     },
     "execution_count": 25,
     "metadata": {},
     "output_type": "execute_result"
    }
   ],
   "source": [
    "model.predict(train_images[0:10])"
   ]
  },
  {
   "cell_type": "code",
   "execution_count": 26,
   "id": "4387f36e",
   "metadata": {},
   "outputs": [
    {
     "data": {
      "image/png": "[encoded data removed]",
      "text/plain": [
       "<Figure size 640x480 with 2 Axes>"
      ]
     },
     "metadata": {},
     "output_type": "display_data"
    },
    {
     "name": "stdout",
     "output_type": "stream",
     "text": [
      "1/1 [==============================] - 0s 20ms/step\n"
     ]
    },
    {
     "data": {
      "image/png": "[encoded data removed]",
      "text/plain": [
       "<Figure size 640x480 with 1 Axes>"
      ]
     },
     "metadata": {},
     "output_type": "display_data"
    },
    {
     "name": "stdout",
     "output_type": "stream",
     "text": [
      "correct answer:  6\n"
     ]
    }
   ],
   "source": [
    "data_idx=7432\n",
    "\n",
    "plt.figure()\n",
    "plt.imshow(train_images[data_idx], cmap='gray')\n",
    "plt.colorbar()\n",
    "plt.grid(False)\n",
    "plt.show()\n",
    "\n",
    "x_values = range(number_of_classes)\n",
    "plt.figure()\n",
    "plt.bar(x_values, model.predict(train_images[data_idx:data_idx+1]).flatten())\n",
    "plt.xticks(range(10))\n",
    "plt.show()\n",
    "\n",
    "print('correct answer: ', train_labels[data_idx])"
   ]
  },
  {
   "cell_type": "code",
   "execution_count": null,
   "id": "77078eae",
   "metadata": {},
   "outputs": [],
   "source": []
  },
  {
   "cell_type": "code",
   "execution_count": null,
   "id": "acb497b3",
   "metadata": {},
   "outputs": [],
   "source": []
  }
 ],
 "metadata": {
  "kernelspec": {
   "display_name": "Python 3 (ipykernel)",
   "language": "python",
   "name": "python3"
  },
  "language_info": {
   "codemirror_mode": {
    "name": "ipython",
    "version": 3
   },
   "file_extension": ".py",
   "mimetype": "text/x-python",
   "name": "python",
   "nbconvert_exporter": "python",
   "pygments_lexer": "ipython3",
   "version": "3.11.1"
  }
 },
 "nbformat": 4,
 "nbformat_minor": 5
}
